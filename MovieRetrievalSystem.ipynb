{
  "nbformat": 4,
  "nbformat_minor": 0,
  "metadata": {
    "colab": {
      "provenance": []
    },
    "kernelspec": {
      "name": "python3",
      "display_name": "Python 3"
    },
    "language_info": {
      "name": "python"
    }
  },
  "cells": [
    {
      "cell_type": "markdown",
      "source": [
        "# **Import Libraries and NLTK Setups**"
      ],
      "metadata": {
        "id": "4GO78F2lD90y"
      }
    },
    {
      "cell_type": "code",
      "execution_count": 61,
      "metadata": {
        "colab": {
          "base_uri": "https://localhost:8080/"
        },
        "id": "fnQopsnv4jDY",
        "outputId": "567e2f90-9e9a-430f-b403-1586fcd60eba"
      },
      "outputs": [
        {
          "output_type": "stream",
          "name": "stderr",
          "text": [
            "[nltk_data] Downloading package stopwords to /root/nltk_data...\n",
            "[nltk_data]   Package stopwords is already up-to-date!\n",
            "[nltk_data] Downloading package punkt to /root/nltk_data...\n",
            "[nltk_data]   Package punkt is already up-to-date!\n",
            "[nltk_data] Downloading package wordnet to /root/nltk_data...\n",
            "[nltk_data]   Package wordnet is already up-to-date!\n"
          ]
        }
      ],
      "source": [
        "import os\n",
        "import logging\n",
        "import math\n",
        "import numpy as np\n",
        "import nltk\n",
        "nltk . download ('stopwords')\n",
        "nltk . download ('punkt')\n",
        "nltk . download ('wordnet')\n",
        "import string\n",
        "import logging\n",
        "import re\n",
        "from collections import defaultdict , Counter\n",
        "from nltk . corpus import stopwords\n",
        "from nltk . tokenize import word_tokenize\n",
        "from nltk . stem import WordNetLemmatizer\n",
        "from numpy.linalg import norm\n",
        "\n",
        "STOPWORDS = set( stopwords . words ('english') )\n",
        "LEMMATIZER = WordNetLemmatizer ()"
      ]
    },
    {
      "cell_type": "markdown",
      "source": [
        "# **Loading Movies Text Files**"
      ],
      "metadata": {
        "id": "0hn-Lv1lEF_f"
      }
    },
    {
      "cell_type": "code",
      "source": [
        "def load_movies(folder_path):\n",
        "    data = {}\n",
        "    doc_id_to_filename = {}\n",
        "    doc_id = 0\n",
        "    for filename in os.listdir(folder_path):\n",
        "        if filename.endswith(\".txt\"):\n",
        "            with open(os.path.join(folder_path, filename), 'r', encoding='utf-8') as file:\n",
        "                data[doc_id] = file.read()\n",
        "                doc_id_to_filename[doc_id] = filename\n",
        "                logging.info(f\"Loaded file: {filename} with doc_id: {doc_id}\")\n",
        "                doc_id += 1\n",
        "    return data, doc_id_to_filename"
      ],
      "metadata": {
        "id": "9eXxUz4C5agd"
      },
      "execution_count": 62,
      "outputs": []
    },
    {
      "cell_type": "markdown",
      "source": [
        "# **Tokenization**"
      ],
      "metadata": {
        "id": "OzILCOXsEUGh"
      }
    },
    {
      "cell_type": "code",
      "source": [
        "def tokenize(text):\n",
        "    return text.lower().split()"
      ],
      "metadata": {
        "id": "E5I-w2NT5pB9"
      },
      "execution_count": 63,
      "outputs": []
    },
    {
      "cell_type": "markdown",
      "source": [
        "# **Text Cleaning Process**"
      ],
      "metadata": {
        "id": "Nh4vbYoWEf5l"
      }
    },
    {
      "cell_type": "code",
      "source": [
        "def clean_text(text):\n",
        "    text = text.lower()\n",
        "    text = re.sub(r\"[^a-zA-Z0-9\\s]\", \"\", text)\n",
        "    tokens = tokenize(text)\n",
        "    cleaned_tokens = [LEMMATIZER.lemmatize(word) for word in tokens if word not in STOPWORDS]\n",
        "    return cleaned_tokens"
      ],
      "metadata": {
        "id": "UxFOckzA5w0I"
      },
      "execution_count": 64,
      "outputs": []
    },
    {
      "cell_type": "markdown",
      "source": [
        "# **Term Frequency**"
      ],
      "metadata": {
        "id": "9-WD0ceXE74Q"
      }
    },
    {
      "cell_type": "code",
      "source": [
        "def term_frequency(term, document):\n",
        "    return document.count(term) / len(document)"
      ],
      "metadata": {
        "id": "EQj-nifd5zl1"
      },
      "execution_count": 65,
      "outputs": []
    },
    {
      "cell_type": "markdown",
      "source": [
        "# **Inverse Document Frequency**"
      ],
      "metadata": {
        "id": "I-uWX9VyFC4J"
      }
    },
    {
      "cell_type": "code",
      "source": [
        "def inverse_document_frequency(term, all_documents):\n",
        "    num_docs_containing_term = sum(1 for doc in all_documents if term in doc)\n",
        "    return math.log(len(all_documents) / (1 + num_docs_containing_term))"
      ],
      "metadata": {
        "id": "iRUcHYAU52kz"
      },
      "execution_count": 66,
      "outputs": []
    },
    {
      "cell_type": "markdown",
      "source": [
        "# **Computing TF-IDF**"
      ],
      "metadata": {
        "id": "S5k4ofNYFNKE"
      }
    },
    {
      "cell_type": "code",
      "source": [
        "def compute_tfidf(document, all_documents, vocab):\n",
        "    tfidf_vector = []\n",
        "    for term in vocab:\n",
        "        tf = term_frequency(term, document)\n",
        "        idf = inverse_document_frequency(term, all_documents)\n",
        "        tfidf_vector.append(tf * idf)\n",
        "    return np.array(tfidf_vector)"
      ],
      "metadata": {
        "id": "EGgzUJOh55Gj"
      },
      "execution_count": 67,
      "outputs": []
    },
    {
      "cell_type": "markdown",
      "source": [
        "# **Cosine Similarity**"
      ],
      "metadata": {
        "id": "p9XI-9ijFXAH"
      }
    },
    {
      "cell_type": "code",
      "source": [
        "def cosine_similarity(vec1, vec2):\n",
        "    dot_product = np.dot(vec1, vec2)\n",
        "    norm_vec1 = np.linalg.norm(vec1)\n",
        "    norm_vec2 = np.linalg.norm(vec2)\n",
        "    return dot_product / (norm_vec1 * norm_vec2) if norm_vec1 * norm_vec2 != 0 else 0"
      ],
      "metadata": {
        "id": "Dnxusv9G57i3"
      },
      "execution_count": 68,
      "outputs": []
    },
    {
      "cell_type": "markdown",
      "source": [
        "# **Processing Movie Search**"
      ],
      "metadata": {
        "id": "AxjKQJliFijy"
      }
    },
    {
      "cell_type": "code",
      "source": [
        "import os\n",
        "import logging\n",
        "\n",
        "def process_queries(query, all_documents, doc_tfidf_vectors, vocab, top_k=5):\n",
        "    tokenized_query = clean_text(query)\n",
        "    query_vector = compute_tfidf(tokenized_query, all_documents, vocab)\n",
        "\n",
        "    similarities = []\n",
        "    for doc_id, doc_vector in enumerate(doc_tfidf_vectors):\n",
        "        similarity = cosine_similarity(query_vector, doc_vector)\n",
        "        similarities.append((doc_id, similarity))\n",
        "\n",
        "    similarities.sort(key=lambda x: x[1], reverse=True)\n",
        "\n",
        "    return similarities[:top_k]"
      ],
      "metadata": {
        "id": "vuAGbQj95-Yo"
      },
      "execution_count": 69,
      "outputs": []
    },
    {
      "cell_type": "markdown",
      "source": [
        "# **Convert doc_ids to Filenames**"
      ],
      "metadata": {
        "id": "yHcZRWBkF4Js"
      }
    },
    {
      "cell_type": "code",
      "source": [
        "def convert_doc_ids_to_filenames(doc_ids, doc_id_to_filename):\n",
        "    return [doc_id_to_filename[doc_id] for doc_id in doc_ids]"
      ],
      "metadata": {
        "id": "QWjrHZ6c6LyD"
      },
      "execution_count": 70,
      "outputs": []
    },
    {
      "cell_type": "markdown",
      "source": [
        "# **Main Function**"
      ],
      "metadata": {
        "id": "9Lzyu4mLFys3"
      }
    },
    {
      "cell_type": "code",
      "source": [
        "def main():\n",
        "    folder_path = \"/content/drive/MyDrive/FinalIRProject\"\n",
        "\n",
        "\n",
        "    print(\"Movies Loading.........\")\n",
        "    movies_data, doc_id_to_filename = load_movies(folder_path)\n",
        "\n",
        "    queries = input(\"Enter the queries: \")\n",
        "\n",
        "\n",
        "    tokenized_docs = [clean_text(doc) for doc in movies_data.values()]\n",
        "    vocab = sorted(set(word for doc in tokenized_docs for word in doc))\n",
        "\n",
        "\n",
        "    doc_tfidf_vectors = [compute_tfidf(doc, tokenized_docs, vocab) for doc in tokenized_docs]\n",
        "\n",
        "    print(f\"Searching top results for '{queries}': \")\n",
        "    similarities = process_queries(queries, tokenized_docs, doc_tfidf_vectors, vocab)\n",
        "\n",
        "    results = [(queries, similarities)]\n",
        "\n",
        "    if results:\n",
        "        print(\"\\nTop Five Movies: \")\n",
        "        for idx, (doc_id, score) in enumerate(results[0][1], 1):\n",
        "            print(f\"Movie {idx}: {doc_id_to_filename[doc_id]}, Score: {score:.4f}\")\n",
        "    else:\n",
        "        print(\"No results found.\")\n",
        "\n",
        "\n",
        "if __name__ == \"__main__\":\n",
        "    main()"
      ],
      "metadata": {
        "colab": {
          "base_uri": "https://localhost:8080/"
        },
        "id": "dZUOkSkm6TUw",
        "outputId": "ef15b011-61e6-4739-f364-bfdab9f88ef5"
      },
      "execution_count": 71,
      "outputs": [
        {
          "output_type": "stream",
          "name": "stdout",
          "text": [
            "Movies Loading.........\n",
            "Enter the queries: love romance\n",
            "Searching top results for 'love romance': \n",
            "\n",
            "Top Five Movies: \n",
            "Movie 1: Titanic.txt, Score: 0.1494\n",
            "Movie 2: The Shape of Water.txt, Score: 0.1400\n",
            "Movie 3: Forrest Gump.txt, Score: 0.0890\n",
            "Movie 4: La La Land .txt, Score: 0.0748\n",
            "Movie 5: Slumdog Millionaire .txt, Score: 0.0651\n"
          ]
        }
      ]
    }
  ]
}